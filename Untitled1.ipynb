{
 "cells": [
  {
   "cell_type": "code",
   "execution_count": 10,
   "metadata": {},
   "outputs": [],
   "source": [
    "class SinglyLinkedListNode:\n",
    "    def __init__(self, node_data):\n",
    "        self.data = node_data\n",
    "        self.next = None"
   ]
  },
  {
   "cell_type": "code",
   "execution_count": 27,
   "metadata": {},
   "outputs": [],
   "source": [
    "SinglyLinkedListNode(5).nexr=7\n"
   ]
  },
  {
   "cell_type": "code",
   "execution_count": null,
   "metadata": {},
   "outputs": [],
   "source": []
  },
  {
   "cell_type": "code",
   "execution_count": 40,
   "metadata": {},
   "outputs": [
    {
     "name": "stdin",
     "output_type": "stream",
     "text": [
      " 2\n",
      " 1\n",
      " 4\n"
     ]
    },
    {
     "data": {
      "text/plain": [
       "<__main__.SinglyLinkedListNode at 0x7f4a000758e0>"
      ]
     },
     "metadata": {},
     "output_type": "display_data"
    }
   ],
   "source": [
    "#!/bin/python3\n",
    "\n",
    "import math\n",
    "import os\n",
    "import random\n",
    "import re\n",
    "import sys\n",
    "\n",
    "class SinglyLinkedListNode:\n",
    "    def __init__(self, node_data):\n",
    "        self.data = node_data\n",
    "        self.next = None\n",
    "\n",
    "class SinglyLinkedList:\n",
    "    def __init__(self):\n",
    "        self.head = None\n",
    "        self.tail = None\n",
    "\n",
    "    def insert_node(self, node_data):\n",
    "        node = SinglyLinkedListNode(node_data)\n",
    "\n",
    "        if not self.head:\n",
    "            self.head = node\n",
    "        else:\n",
    "            self.tail.next = node\n",
    "            \n",
    "        self.tail = node\n",
    "    def display(self,head):\n",
    "        p=head\n",
    "        print(self.head())\n",
    "#         print(self.p.next.data)\n",
    "        \n",
    "def printLinkedList(head):\n",
    "    display(head)\n",
    "    \n",
    "if __name__ == '__main__':\n",
    "    llist_count = int(input())\n",
    "\n",
    "    llist = SinglyLinkedList()\n",
    "\n",
    "    for _ in range(llist_count):\n",
    "        llist_item = int(input())\n",
    "        llist.insert_node(llist_item)\n",
    "\n",
    "    printLinkedList(llist.head)\n"
   ]
  },
  {
   "cell_type": "code",
   "execution_count": null,
   "metadata": {},
   "outputs": [],
   "source": []
  }
 ],
 "metadata": {
  "kernelspec": {
   "display_name": "Python 3",
   "language": "python",
   "name": "python3"
  },
  "language_info": {
   "codemirror_mode": {
    "name": "ipython",
    "version": 3
   },
   "file_extension": ".py",
   "mimetype": "text/x-python",
   "name": "python",
   "nbconvert_exporter": "python",
   "pygments_lexer": "ipython3",
   "version": "3.8.3"
  }
 },
 "nbformat": 4,
 "nbformat_minor": 4
}
